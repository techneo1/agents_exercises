{
 "cells": [
  {
   "cell_type": "code",
   "execution_count": 12,
   "metadata": {},
   "outputs": [
    {
     "data": {
      "text/plain": [
       "True"
      ]
     },
     "execution_count": 12,
     "metadata": {},
     "output_type": "execute_result"
    }
   ],
   "source": [
    "from dotenv import load_dotenv\n",
    "load_dotenv(override=True)"
   ]
  },
  {
   "cell_type": "code",
   "execution_count": 14,
   "metadata": {},
   "outputs": [
    {
     "name": "stdout",
     "output_type": "stream",
     "text": [
      "OpenAI API Key exists and begins sk-proj-\n"
     ]
    }
   ],
   "source": [
    "import os \n",
    "openai_api_key = os.getenv('OPENAI_API_KEY');\n",
    "\n",
    "if openai_api_key:\n",
    "    print(f\"OpenAI API Key exists and begins {openai_api_key[:8]}\")\n",
    "else:\n",
    "    print(\"OpenAI API Key not set - please head to the troubleshooting guide in the setup folder\")"
   ]
  },
  {
   "cell_type": "code",
   "execution_count": 15,
   "metadata": {},
   "outputs": [
    {
     "name": "stdout",
     "output_type": "stream",
     "text": [
      "2 + 2 equals 4.\n"
     ]
    }
   ],
   "source": [
    "from openai import OpenAI\n",
    "openai = OpenAI()\n",
    "\n",
    "messages = [{\"role\": \"user\", \"content\": \"What is 2+2?\"}]\n",
    "\n",
    "response = openai.chat.completions.create(\n",
    "    model=\"gpt-4.1-nano\",\n",
    "    messages=messages\n",
    ")\n",
    "\n",
    "print(response.choices[0].message.content)"
   ]
  },
  {
   "cell_type": "code",
   "execution_count": 20,
   "metadata": {},
   "outputs": [
    {
     "name": "stdout",
     "output_type": "stream",
     "text": [
      "IQ_question: If five machines take five minutes to produce five widgets, how long would it take 100 machines to produce 100 widgets?\n"
     ]
    },
    {
     "data": {
      "text/markdown": [
       "Let's analyze the problem step-by-step:\n",
       "\n",
       "1. **Given data:**  \n",
       "   - 5 machines take 5 minutes to produce 5 widgets.\n",
       "\n",
       "2. **Determine the rate per machine:**  \n",
       "   - The total production in that time is 5 widgets.\n",
       "   - Since 5 machines produce 5 widgets in 5 minutes, the combined rate of all 5 machines is:  \n",
       "     \\[\n",
       "     \\frac{5 \\text{ widgets}}{5 \\text{ minutes}} = 1 \\text{ widget per minute}\n",
       "     \\]\n",
       "   - Therefore, each machine produces:\n",
       "     \\[\n",
       "     \\frac{1 \\text{ widget per minute}}{5 \\text{ machines}} = 0.2 \\text{ widgets per minute}\n",
       "     \\]\n",
       "\n",
       "3. **Production rate for 100 machines:**  \n",
       "   - 100 machines would produce:  \n",
       "     \\[\n",
       "     100 \\times 0.2 = 20 \\text{ widgets per minute}\n",
       "     \\]\n",
       "\n",
       "4. **Time to produce 100 widgets with 100 machines:**  \n",
       "   \\[\n",
       "   \\text{Time} = \\frac{\\text{Total widgets}}{\\text{Rate}} = \\frac{100}{20} = 5 \\text{ minutes}\n",
       "   \\]\n",
       "\n",
       "**Answer:**  \n",
       "**It would take 100 machines 5 minutes to produce 100 widgets.**"
      ],
      "text/plain": [
       "<IPython.core.display.Markdown object>"
      ]
     },
     "metadata": {},
     "output_type": "display_data"
    }
   ],
   "source": [
    "# Make an agentic workflow\n",
    "\n",
    "question = \"Please propose a hard and challenging question to access someone's IQ. Respond only with the question\"\n",
    "response = openai.chat.completions.create(\n",
    "    model=\"gpt-4.1-nano\",\n",
    "    messages=[{\"role\": \"user\", \"content\": question}]\n",
    ")\n",
    "\n",
    "IQ_question = response.choices[0].message.content\n",
    "print(f\"IQ_question: \"+IQ_question)\n",
    "\n",
    "response = openai.chat.completions.create(\n",
    "    model=\"gpt-4.1-nano\",\n",
    "    messages=[{\"role\": \"user\", \"content\": IQ_question}]\n",
    ")\n",
    "answer = response.choices[0].message.content\n",
    "# print(f\"answer: \"+answer)\n",
    "\n",
    "from IPython.display import Markdown, display\n",
    "display(Markdown(answer))"
   ]
  }
 ],
 "metadata": {
  "kernelspec": {
   "display_name": ".venv",
   "language": "python",
   "name": "python3"
  },
  "language_info": {
   "codemirror_mode": {
    "name": "ipython",
    "version": 3
   },
   "file_extension": ".py",
   "mimetype": "text/x-python",
   "name": "python",
   "nbconvert_exporter": "python",
   "pygments_lexer": "ipython3",
   "version": "3.12.9"
  }
 },
 "nbformat": 4,
 "nbformat_minor": 2
}
