{
 "cells": [
  {
   "cell_type": "markdown",
   "metadata": {},
   "source": [
    "<table style=\"margin: 0; text-align: left; width:100%\">\n",
    "    <tr>\n",
    "        <td style=\"width: 150px; height: 150px; vertical-align: middle;\">\n",
    "            <img src=\"../assets/exercise.png\" width=\"150\" height=\"150\" style=\"display: block;\" />\n",
    "        </td>\n",
    "        <td>\n",
    "            <h2 style=\"color:#ff7800;\">Exercise - Make an Agentic Workflow</h2>\n",
    "            <span style=\"color:#ff7800;\">Now try this commercial application:<br/>\n",
    "            First ask the LLM to pick a business area that might be worth exploring for an Agentic AI opportunity.<br/>\n",
    "            Then ask the LLM to present a pain-point in that industry - something challenging that might be ripe for an Agentic solution.<br/>\n",
    "            Finally have 3 third LLM call propose the Agentic AI solution.\n",
    "            </span>\n",
    "        </td>\n",
    "    </tr>\n",
    "</table>"
   ]
  },
  {
   "cell_type": "code",
   "execution_count": 1,
   "metadata": {},
   "outputs": [
    {
     "data": {
      "text/plain": [
       "True"
      ]
     },
     "execution_count": 1,
     "metadata": {},
     "output_type": "execute_result"
    }
   ],
   "source": [
    "from dotenv import load_dotenv\n",
    "\n",
    "load_dotenv(override=True)"
   ]
  },
  {
   "cell_type": "code",
   "execution_count": 2,
   "metadata": {},
   "outputs": [
    {
     "name": "stdout",
     "output_type": "stream",
     "text": [
      "OpenAI API Key exists and begins sk-proj-\n"
     ]
    }
   ],
   "source": [
    "import os \n",
    "openai_api_key = os.getenv('OPENAI_API_KEY');\n",
    "\n",
    "if openai_api_key:\n",
    "    print(f\"OpenAI API Key exists and begins {openai_api_key[:8]}\")\n",
    "else:\n",
    "    print(\"OpenAI API Key not set - please head to the troubleshooting guide in the setup folder\")"
   ]
  },
  {
   "cell_type": "code",
   "execution_count": 9,
   "metadata": {},
   "outputs": [
    {
     "name": "stdout",
     "output_type": "stream",
     "text": [
      "Business Area: Healthcare Diagnostics and Decision Support\n",
      "Pain Point: Limited real-time integration and analysis of diverse diagnostic data hinder timely and accurate decision-making in complex healthcare cases.\n",
      "AI Solution: Implementing an Agentic AI solution can dramatically enhance healthcare diagnostics by enabling real-time data integration and analysis across diverse sources such as imaging, lab results, and electronic health records. The agent can autonomously collect, interpret, and synthesize data, providing clinicians with timely, evidence-based insights. It can adapt dynamically to new information, prioritize critical cases, and support complex decision-making workflows. This accelerates diagnosis accuracy, reduces human oversight errors, and enables prompt interventions. Overall, Agentic AI ensures seamless, intelligent, and continuous diagnostic support, transforming healthcare delivery into a more efficient, accurate, and patient-centric process.\n"
     ]
    },
    {
     "data": {
      "text/markdown": [
       "Implementing an Agentic AI solution can dramatically enhance healthcare diagnostics by enabling real-time data integration and analysis across diverse sources such as imaging, lab results, and electronic health records. The agent can autonomously collect, interpret, and synthesize data, providing clinicians with timely, evidence-based insights. It can adapt dynamically to new information, prioritize critical cases, and support complex decision-making workflows. This accelerates diagnosis accuracy, reduces human oversight errors, and enables prompt interventions. Overall, Agentic AI ensures seamless, intelligent, and continuous diagnostic support, transforming healthcare delivery into a more efficient, accurate, and patient-centric process."
      ],
      "text/plain": [
       "<IPython.core.display.Markdown object>"
      ]
     },
     "metadata": {},
     "output_type": "display_data"
    }
   ],
   "source": [
    "from openai import OpenAI\n",
    "openai = OpenAI()\n",
    "\n",
    "response = openai.chat.completions.create(\n",
    "    model=\"gpt-4.1-nano\",\n",
    "    messages=[{\"role\": \"user\", \"content\": \"pick a business area that might be worth exploring for an Agentic AI opportunity. Respond only with the business area\"}]\n",
    "\n",
    ")\n",
    "business_area = response.choices[0].message.content;\n",
    "print(f\"Business Area: \"+ business_area)\n",
    "    \n",
    "response = openai.chat.completions.create(\n",
    "    model=\"gpt-4.1-nano\",\n",
    "    messages=[{\"role\": \"user\", \"content\": \"present a pain-point in the \"+ business_area +\" industry - something challenging that might be ripe for an Agentic solution. Respond with only pain point\"}]\n",
    ")\n",
    "pain_point = response.choices[0].message.content;\n",
    "print(f\"Pain Point: \"+ pain_point)\n",
    "\n",
    "response = openai.chat.completions.create(\n",
    "    model=\"gpt-4.1-nano\",\n",
    "    messages=[{\"role\": \"user\", \"content\": \"propose the Agentic AI solution for the business area: \"+ business_area +\" industry having pain points like: \"+pain_point}]\n",
    ")\n",
    "Ai_solution = response.choices[0].message.content;\n",
    "print(f\"AI Solution: \"+ Ai_solution)\n",
    "\n",
    "from IPython.display import Markdown, display\n",
    "display(Markdown(Ai_solution))"
   ]
  }
 ],
 "metadata": {
  "kernelspec": {
   "display_name": ".venv",
   "language": "python",
   "name": "python3"
  },
  "language_info": {
   "codemirror_mode": {
    "name": "ipython",
    "version": 3
   },
   "file_extension": ".py",
   "mimetype": "text/x-python",
   "name": "python",
   "nbconvert_exporter": "python",
   "pygments_lexer": "ipython3",
   "version": "3.12.9"
  }
 },
 "nbformat": 4,
 "nbformat_minor": 2
}
